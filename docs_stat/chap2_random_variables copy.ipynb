{
 "cells": [
  {
   "cell_type": "markdown",
   "metadata": {},
   "source": [
    "# All of Statistics: A Concise Course in Statistical Inference\n",
    "## Chapter 2: Random Variables"
   ]
  },
  {
   "cell_type": "markdown",
   "metadata": {},
   "source": [
    "Some definitions:\n",
    "- A RV $X$ maps $\\Omega \\rightarrow \\real$ and assigns a number to each outcome $X(\\omega)$\n",
    "- E.g when flipping two coins and count number of heads there is a probability for each outcome of $P(\\{\\omega\\}) = 1/4$\\\n",
    "As there are four different outcomes, the random variable yields $X(\\omega) = \\{0,1,1,2\\}$ with probabilities for these specific outcomes\\\n",
    "$P(X=0) = 1/4$, $P(X=1) = 1/2$, $P(X=2) = 1/4$\n",
    "- Cumulative distribution function contains all the info about RV $F_X(x) = P(X \\le x)$ ($X$ : RV and $x$ : particular value of $X$)\n",
    "- Probability function $f_X(x) = P(X = x)$ for discrete $X$ and obviously $F_X(x) = P(X \\le x) = \\sum_{x_i \\le x}f_X(x_i)$\n",
    "- For continuous RV we get $P(a < X b x) = \\int_a^b f_X(x) dx$ or $F_X(x) = \\int_{-\\infty}^b f_X(x) dx$\n",
    "- Important discrete RVs:\n",
    "    - Discrete Uniform Distribution:\\\n",
    "    $f(x) = 1/k$ for $x = 1,...,k$ and else $f(x) = 0$\\\n",
    "    - Bernoulli Distribution : Binary outcome (single coin toss)\\\n",
    "     $P(X=1) = p$ and $P(X=0) = 1 - p$ with $f(x) = p^x(1-p)^{1-x}$ for $x \\in \\{0,1\\}$\\\n",
    "     Write $X \\sim Bernoulli(p)$\n",
    "    - Binomial Distribution : Binary outcome but now we execute $n$ outcomes (e.g. number of heads)\\\n",
    "    $f(x) =  {n \\choose x} p^x(1-p)^{n-x}$ for $x = 0,...,n$ and else $f(x) = 0$\\\n",
    "    Write $X \\sim Binomial(n,p)$\n",
    "    - Geometric Distribution : Number of flips needed until first head\\\n",
    "    $P(X=k) = p(1-p)^{k-1}$\\\n",
    "    Write $X \\sim Geom(p)$\n",
    "    - Poisson Distribution : Model for counts of rare events (radioactive decay, traffic accidents)\\\n",
    "    $f(x) = e^{-\\lambda}\\frac{\\lambda^x}{x!}$\\\n",
    "    Write $X \\sim Poisson(\\lambda)$\n",
    "- Important continuous RVs:\n",
    "    - Uniform Distribution\\\n",
    "    $f(x) = \\frac{1}{b-a}$ for $x \\in [a,b]$ and else $f(x) = 0$\\\n",
    "    Write $X \\sim Uniform(a,b)$\n",
    "    - Normal Distribution : Most RVs folow this one / CLT $\\rightarrow$ Sum of RVs are approx normal distributed\\\n",
    "    $f(x) = \\frac{1}{\\sigma \\sqrt{2\\pi}}exp\\{-\\frac{1}{2\\sigma^2}(x-\\mu)^2\\}$\\\n",
    "    Write $X \\sim N(\\mu,\\sigma)$\n",
    "    - Exponential Distribution : Models lifetime of electronic components or waiting time between rare events\\\n",
    "    $f(x) = \\frac{1}{\\beta}e^{-x/\\beta}$\\\n",
    "    Write $X \\sim Exp(\\beta)$\n",
    "    - Gamma Distribution : with $Gamma(1,\\beta) = Exp(\\beta)$\\\n",
    "    $f(x) = \\frac{1}{\\beta \\Gamma(\\alpha)}x^{\\alpha-1}e^{-x/\\beta}$\\\n",
    "    Write $X \\sim Gamma(\\alpha,\\beta)$\n",
    "    - Beta Distribution :\n",
    "    $f(x) = \\frac{\\Gamma(\\alpha + \\beta)}{\\Gamma(\\alpha) \\Gamma(\\beta)}x^{\\alpha-1}(1-x)^{\\beta-1}$\\\n",
    "    Write $X \\sim Beta(\\alpha,\\beta)$\n",
    "    - t and Cauchy Distribution : $X$ has $t$ dist with $\\nu$ degrees of freedom, while $N = t_\\infty$ and $Cauchy = t_1$\\\n",
    "    $f(x) = \\frac{\\Gamma(\\frac{\\nu + 1}{2})}{\\Gamma(\\frac{\\nu}{2})} \\frac{1}{(1+\\frac{x^2}{\\nu})^{(\\nu+1)/2}}$\\\n",
    "    Write $X \\sim t_{\\nu}$\n",
    "    - $\\chi^2$ Distribution : $X$ has $\\chi^2$ dist with $p$ degrees of freedom\\\n",
    "    $f(x) = \\frac{1}{\\Gamma(p/2)2^{p/2}}x^{(p/2)-1}e^{-x/2}$\\\n",
    "    Write $X \\sim \\chi^2$\n",
    "- For some of those above there are also bivariate distributions for two RVs, thus joint distribution $f_{X,Y}$\n",
    "- Marginal distribution function for continuous RVs and $f(x,y)$: $f_X(x) = \\int f(x,y)dy$ and $f_Y(y) = \\int f(x,y)dx$\\\n",
    "Marginal distributions for discrete RVs: $f_X(x) = \\sum_y f(x,y) = \\sum_y P(X=x,Y=y)$ and $f_Y(y)$ vice versa\n",
    "- For independent $X$ and $Y$ we get $f_{X,Y}(x,y) = f_{X}(x)f_{Y}(y)$\n",
    "- Conditional Distributions \n",
    "    - for discrete RVs\\\n",
    "    $f_{X|Y}(x|y) = P(X=x|Y=y) = \\frac{P(X=x,Y=y)}{P(Y=y)} = \\frac{f_{X,Y}(x,y)}{f_Y(y)}$\n",
    "    - for continuous RVs\\\n",
    "    $f_{X|Y}(x|y) = \\frac{f_{X,Y}(x,y)}{f_Y(y)}$\n",
    "- For multivariate distributions of n random variables when $X_1, ..., X_n$ are independent/identically distributed (IID) we get the same behavior.\\\n",
    "IID just means: $P(X_1 \\in A_1, ..., X_n \\in A_n) = \\Pi_i^n P(X_i \\in A_i) $\\\n",
    "or just check if: $f(x_1, ..., x_n) = \\Pi_i^n f_{X_i}(x_i)$\n",
    "- important multivariate dists are multinomial and normal\n",
    "- Transformation of RVs, e.g. one wants to know $X/Y$, $X+Y$, $max(X,Y)$,...\\\n",
    "Let $Z = r(X,Y)$ be function of interest we find $f_Z$ by:\n",
    "    1. For each $z$, find set $A_z ? \\{(x,y) : r(x,y) \\le z\\}$\\\n",
    "    2. Find CDF $F_Z(z) = P(r(X,Y) \\le z) = \\int \\int f_{X,Y}$\\\n",
    "    3. $f_Z(z) = F'_Z$"
   ]
  },
  {
   "cell_type": "markdown",
   "metadata": {},
   "source": [
    "## Exercises:"
   ]
  },
  {
   "cell_type": "markdown",
   "metadata": {},
   "source": [
    "Exercice 13:\\\n",
    "Let $X ~ N(0,1)$ and let $Y = e^X$\\\n",
    "(a) Find the PDF for Y. Plot it \\\n",
    "(b) Generate a vector $x = (X_1, ... ,X_{1O,OOO})$ consisting of 10,000 random standard Normals. Let $Y = (Y_1,..., Y_{1O,OOO})$\\\n",
    "where $Y_i = e^X$;. Draw a histogram of Y and compare it to the PDF you found in part (a).  "
   ]
  },
  {
   "cell_type": "code",
   "execution_count": 10,
   "metadata": {},
   "outputs": [
    {
     "data": {
      "text/plain": [
       "(0.0, 10.0)"
      ]
     },
     "execution_count": 10,
     "metadata": {},
     "output_type": "execute_result"
    },
    {
     "data": {
      "image/png": "[encoded data removed]",
      "text/plain": [
       "<Figure size 640x480 with 1 Axes>"
      ]
     },
     "metadata": {},
     "output_type": "display_data"
    }
   ],
   "source": [
    "import numpy as np\n",
    "import matplotlib.pyplot as plt\n",
    "\n",
    "x = np.random.normal(0,1,10000)\n",
    "y = np.exp(x)\n",
    "\n",
    "r = plt.hist(y, bins=500)\n",
    "plt.xlim(0,10)"
   ]
  }
 ],
 "metadata": {
  "kernelspec": {
   "display_name": "Python 3.8.10 64-bit",
   "language": "python",
   "name": "python3"
  },
  "language_info": {
   "codemirror_mode": {
    "name": "ipython",
    "version": 3
   },
   "file_extension": ".py",
   "mimetype": "text/x-python",
   "name": "python",
   "nbconvert_exporter": "python",
   "pygments_lexer": "ipython3",
   "version": "3.10.12"
  },
  "orig_nbformat": 4,
  "vscode": {
   "interpreter": {
    "hash": "31f2aee4e71d21fbe5cf8b01ff0e069b9275f58929596ceb00d14d90e3e16cd6"
   }
  }
 },
 "nbformat": 4,
 "nbformat_minor": 2
}
